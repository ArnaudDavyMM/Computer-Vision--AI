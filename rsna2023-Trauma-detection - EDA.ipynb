{
 "cells": [
  {
   "cell_type": "markdown",
   "id": "f74aff08",
   "metadata": {},
   "source": [
    "## Import Librairies & Dependencis"
   ]
  },
  {
   "cell_type": "code",
   "execution_count": 1,
   "id": "ce005f4f",
   "metadata": {},
   "outputs": [],
   "source": [
    "import sys\n",
    "import warnings\n",
    "\n",
    "if not sys.warnoptions:\n",
    "    import warnings\n",
    "    warnings.simplefilter(\"ignore\")\n",
    "    \n",
    "warnings.filterwarnings(\"ignore\", category=DeprecationWarning) \n",
    "warnings.filterwarnings(\"ignore\", category=UserWarning)\n"
   ]
  },
  {
   "cell_type": "code",
   "execution_count": 2,
   "id": "3838cac5",
   "metadata": {},
   "outputs": [],
   "source": [
    "# DATA MANIPULATION\n",
    "import random\n",
    "import numpy as np\n",
    "import pandas as pd\n",
    "import pandas.api.types\n",
    "from scipy import stats\n",
    "from scipy.stats import *\n",
    "import scipy.ndimage as ndi\n",
    "\n",
    "# DATA VISUALIZATION - PLOTS\n",
    "from matplotlib.animation import FuncAnimation\n",
    "import matplotlib.pyplot as plt\n",
    "import seaborn as sbn\n",
    "%matplotlib inline\n",
    "\n",
    "# IMAGE PREPROCESSING & VISUALIZATION\n",
    "import time\n",
    "import cv2\n",
    "import os, shutil\n",
    "\n",
    "import gdcm \n",
    "import imageio as iio\n",
    "import nibabel as nib\n",
    "import pydicom as dicom\n",
    "import SimpleITK as sitk\n",
    "import albumentations as A\n",
    "import ipywidgets as widgets\n",
    "\n",
    "from PIL import * \n",
    "from skimage import * \n",
    "from pydicom import *\n",
    "from glob import glob\n",
    "from tqdm import tqdm\n",
    "from pathlib import Path\n",
    "from pydicom.data import *\n",
    "from skimage.filters import *\n",
    "from skimage.exposure import *\n",
    "from skimage.transform import *\n",
    "from subprocess import check_output"
   ]
  },
  {
   "cell_type": "markdown",
   "id": "02470e59",
   "metadata": {},
   "source": [
    "## 1. Data preprocessing"
   ]
  },
  {
   "cell_type": "code",
   "execution_count": 3,
   "id": "b89fd977",
   "metadata": {},
   "outputs": [],
   "source": [
    "# Set dataset root\n",
    "dsroot ='/home/mukwa/Desktop/rsna-2023-abdominal-trauma-detection/'"
   ]
  },
  {
   "cell_type": "code",
   "execution_count": 4,
   "id": "dc4e97ee",
   "metadata": {},
   "outputs": [
    {
     "name": "stdout",
     "output_type": "stream",
     "text": [
      "image_level_labels.csv\t test_images\t\t   train_images\r\n",
      "sample_submission.csv\t test_series_meta.csv\t   train_series_meta.csv\r\n",
      "segmentations\t\t train.csv\r\n",
      "test_dicom_tags.parquet  train_dicom_tags.parquet\r\n"
     ]
    }
   ],
   "source": [
    "!ls {dsroot}"
   ]
  },
  {
   "cell_type": "code",
   "execution_count": 5,
   "id": "5726b5dc",
   "metadata": {},
   "outputs": [
    {
     "name": "stdout",
     "output_type": "stream",
     "text": [
      "train_series_meta.csv - File\n",
      "sample_submission.csv - File\n",
      "train.csv - File\n",
      "train_images - Directory\n",
      "train_dicom_tags.parquet - File\n",
      "test_series_meta.csv - File\n",
      "image_level_labels.csv - File\n",
      "test_images - Directory\n",
      "segmentations - Directory\n",
      "test_dicom_tags.parquet - File\n"
     ]
    }
   ],
   "source": [
    "for i in os.listdir(dsroot):\n",
    "    if os.path.isdir(os.path.join(dsroot, i)):\n",
    "        print(f'{i} - Directory')\n",
    "    else:\n",
    "        print(f'{i} - File')"
   ]
  },
  {
   "cell_type": "markdown",
   "id": "96cbc7fc",
   "metadata": {},
   "source": [
    "#### As per the result obtained above our main directory contains the following files :\n",
    "\n",
    "    1. image_level_labels.csv - File in csv format*\n",
    "    2. sample_submission.csv - File in csv format\n",
    "    3. test_series_meta.csv - File in csv format\n",
    "    4. train_series_meta.csv - File in csv format\n",
    "    5. test_dicom_tags.parquet - File in parquet format\n",
    "    6. train_dicom_tags.parquet - file parquet format\n",
    "    \n",
    "    Directory or Folders\n",
    "        1. train_images\n",
    "        2. test_images\n",
    "        3. segmentations"
   ]
  },
  {
   "cell_type": "markdown",
   "id": "5688cfbd",
   "metadata": {},
   "source": [
    "## 2. EDA"
   ]
  },
  {
   "cell_type": "markdown",
   "id": "dbcc7419",
   "metadata": {},
   "source": [
    "#### As per the result, we can conclude that we have six (6) and three directories"
   ]
  },
  {
   "cell_type": "code",
   "execution_count": 6,
   "id": "08de399d",
   "metadata": {},
   "outputs": [
    {
     "name": "stdout",
     "output_type": "stream",
     "text": [
      "Below is train_images :\n",
      "-> 64263\n",
      " --> 40690\n",
      " --> 18.dcm\n",
      " --> 14.dcm\n",
      " --> 52.dcm\n",
      " --> 74.dcm\n",
      " --> 143.dcm\n",
      " --> 121.dcm\n",
      " --> 123.dcm\n",
      " --> 8.dcm\n",
      " --> 30.dcm\n",
      " --> 149.dcm\n",
      " --> 49.dcm\n",
      " --> 145.dcm\n",
      " --> 13.dcm\n",
      " --> 138.dcm\n",
      " --> 156.dcm\n",
      " --> 47672\n",
      " --> 189.dcm\n",
      " --> 200.dcm\n",
      " --> 52.dcm\n",
      " --> 74.dcm\n",
      " --> 143.dcm\n",
      " --> 121.dcm\n",
      " --> 123.dcm\n",
      " --> 195.dcm\n",
      " --> 149.dcm\n",
      " --> 174.dcm\n",
      " --> 145.dcm\n",
      " --> 138.dcm\n",
      " --> 156.dcm\n",
      " --> 219.dcm\n",
      " --> 122.dcm\n",
      " ... \n"
     ]
    }
   ],
   "source": [
    "train_images = os.listdir(os.path.join(dsroot, 'train_images'))\n",
    "print('Below is train_images :')\n",
    "print(f'-> {train_images[0]}')\n",
    "for dir in os.listdir(os.path.join(dsroot, f'train_images/{train_images[0]}')):\n",
    "    print(f' --> {dir}')\n",
    "    for img in os.listdir(os.path.join(dsroot, f'train_images/{train_images[0]}/{dir}'))[:15]:\n",
    "        print(f' --> {img}')\n",
    "print(' ... ')"
   ]
  },
  {
   "cell_type": "markdown",
   "id": "7f158aed",
   "metadata": {},
   "source": [
    "**As per our result, we can conclude the medical imaging or the CT (Computed tomography) scan data, in DICOM format of all patients stored into folders which may contain one or two differents sub-folders named by patient id becaus each patient may have been scanned once or twice. Each scan contains a series of images. In addition, it worth noting that all medical imaging does not have the same bit per pixel, pixel range, and pixel representation**. "
   ]
  },
  {
   "cell_type": "markdown",
   "id": "42ed7be3",
   "metadata": {},
   "source": [
    "## Load & view labels (in csv format)"
   ]
  },
  {
   "cell_type": "code",
   "execution_count": 7,
   "id": "2defb78b",
   "metadata": {},
   "outputs": [
    {
     "name": "stdout",
     "output_type": "stream",
     "text": [
      "Training data Rows : 3147 Columns : 15 \n"
     ]
    }
   ],
   "source": [
    "train_labels = pd.read_csv(os.path.join(dsroot, 'train.csv'))\n",
    "print('Training data Rows : %s Columns : %s ' % (str(train_labels.shape[0]), str(train_labels.shape[1])))"
   ]
  },
  {
   "cell_type": "code",
   "execution_count": 8,
   "id": "be451317",
   "metadata": {},
   "outputs": [
    {
     "name": "stdout",
     "output_type": "stream",
     "text": [
      "Training data Rows : 3147 Columns : 15 \n"
     ]
    }
   ],
   "source": [
    "print('Training data Rows : %s Columns : %s ' % (str(train_labels.shape[0]),str(train_labels.shape[1])))"
   ]
  },
  {
   "cell_type": "code",
   "execution_count": 9,
   "id": "e18dd769",
   "metadata": {},
   "outputs": [
    {
     "name": "stdout",
     "output_type": "stream",
     "text": [
      "<class 'pandas.core.frame.DataFrame'>\n",
      "RangeIndex: 3147 entries, 0 to 3146\n",
      "Data columns (total 15 columns):\n",
      " #   Column                 Non-Null Count  Dtype\n",
      "---  ------                 --------------  -----\n",
      " 0   patient_id             3147 non-null   int64\n",
      " 1   bowel_healthy          3147 non-null   int64\n",
      " 2   bowel_injury           3147 non-null   int64\n",
      " 3   extravasation_healthy  3147 non-null   int64\n",
      " 4   extravasation_injury   3147 non-null   int64\n",
      " 5   kidney_healthy         3147 non-null   int64\n",
      " 6   kidney_low             3147 non-null   int64\n",
      " 7   kidney_high            3147 non-null   int64\n",
      " 8   liver_healthy          3147 non-null   int64\n",
      " 9   liver_low              3147 non-null   int64\n",
      " 10  liver_high             3147 non-null   int64\n",
      " 11  spleen_healthy         3147 non-null   int64\n",
      " 12  spleen_low             3147 non-null   int64\n",
      " 13  spleen_high            3147 non-null   int64\n",
      " 14  any_injury             3147 non-null   int64\n",
      "dtypes: int64(15)\n",
      "memory usage: 368.9 KB\n"
     ]
    }
   ],
   "source": [
    "train_labels.info()"
   ]
  },
  {
   "cell_type": "code",
   "execution_count": 10,
   "id": "876db0a0",
   "metadata": {},
   "outputs": [
    {
     "data": {
      "text/html": [
       "<div>\n",
       "<style scoped>\n",
       "    .dataframe tbody tr th:only-of-type {\n",
       "        vertical-align: middle;\n",
       "    }\n",
       "\n",
       "    .dataframe tbody tr th {\n",
       "        vertical-align: top;\n",
       "    }\n",
       "\n",
       "    .dataframe thead th {\n",
       "        text-align: right;\n",
       "    }\n",
       "</style>\n",
       "<table border=\"1\" class=\"dataframe\">\n",
       "  <thead>\n",
       "    <tr style=\"text-align: right;\">\n",
       "      <th></th>\n",
       "      <th>patient_id</th>\n",
       "      <th>bowel_healthy</th>\n",
       "      <th>bowel_injury</th>\n",
       "      <th>extravasation_healthy</th>\n",
       "      <th>extravasation_injury</th>\n",
       "      <th>kidney_healthy</th>\n",
       "      <th>kidney_low</th>\n",
       "      <th>kidney_high</th>\n",
       "      <th>liver_healthy</th>\n",
       "      <th>liver_low</th>\n",
       "      <th>liver_high</th>\n",
       "      <th>spleen_healthy</th>\n",
       "      <th>spleen_low</th>\n",
       "      <th>spleen_high</th>\n",
       "      <th>any_injury</th>\n",
       "    </tr>\n",
       "  </thead>\n",
       "  <tbody>\n",
       "    <tr>\n",
       "      <th>0</th>\n",
       "      <td>10004</td>\n",
       "      <td>1</td>\n",
       "      <td>0</td>\n",
       "      <td>0</td>\n",
       "      <td>1</td>\n",
       "      <td>0</td>\n",
       "      <td>1</td>\n",
       "      <td>0</td>\n",
       "      <td>1</td>\n",
       "      <td>0</td>\n",
       "      <td>0</td>\n",
       "      <td>0</td>\n",
       "      <td>0</td>\n",
       "      <td>1</td>\n",
       "      <td>1</td>\n",
       "    </tr>\n",
       "    <tr>\n",
       "      <th>1</th>\n",
       "      <td>10005</td>\n",
       "      <td>1</td>\n",
       "      <td>0</td>\n",
       "      <td>1</td>\n",
       "      <td>0</td>\n",
       "      <td>1</td>\n",
       "      <td>0</td>\n",
       "      <td>0</td>\n",
       "      <td>1</td>\n",
       "      <td>0</td>\n",
       "      <td>0</td>\n",
       "      <td>1</td>\n",
       "      <td>0</td>\n",
       "      <td>0</td>\n",
       "      <td>0</td>\n",
       "    </tr>\n",
       "    <tr>\n",
       "      <th>2</th>\n",
       "      <td>10007</td>\n",
       "      <td>1</td>\n",
       "      <td>0</td>\n",
       "      <td>1</td>\n",
       "      <td>0</td>\n",
       "      <td>1</td>\n",
       "      <td>0</td>\n",
       "      <td>0</td>\n",
       "      <td>1</td>\n",
       "      <td>0</td>\n",
       "      <td>0</td>\n",
       "      <td>1</td>\n",
       "      <td>0</td>\n",
       "      <td>0</td>\n",
       "      <td>0</td>\n",
       "    </tr>\n",
       "    <tr>\n",
       "      <th>3</th>\n",
       "      <td>10026</td>\n",
       "      <td>1</td>\n",
       "      <td>0</td>\n",
       "      <td>1</td>\n",
       "      <td>0</td>\n",
       "      <td>1</td>\n",
       "      <td>0</td>\n",
       "      <td>0</td>\n",
       "      <td>1</td>\n",
       "      <td>0</td>\n",
       "      <td>0</td>\n",
       "      <td>1</td>\n",
       "      <td>0</td>\n",
       "      <td>0</td>\n",
       "      <td>0</td>\n",
       "    </tr>\n",
       "    <tr>\n",
       "      <th>4</th>\n",
       "      <td>10051</td>\n",
       "      <td>1</td>\n",
       "      <td>0</td>\n",
       "      <td>1</td>\n",
       "      <td>0</td>\n",
       "      <td>1</td>\n",
       "      <td>0</td>\n",
       "      <td>0</td>\n",
       "      <td>1</td>\n",
       "      <td>0</td>\n",
       "      <td>0</td>\n",
       "      <td>0</td>\n",
       "      <td>1</td>\n",
       "      <td>0</td>\n",
       "      <td>1</td>\n",
       "    </tr>\n",
       "  </tbody>\n",
       "</table>\n",
       "</div>"
      ],
      "text/plain": [
       "   patient_id  bowel_healthy  bowel_injury  extravasation_healthy  \\\n",
       "0       10004              1             0                      0   \n",
       "1       10005              1             0                      1   \n",
       "2       10007              1             0                      1   \n",
       "3       10026              1             0                      1   \n",
       "4       10051              1             0                      1   \n",
       "\n",
       "   extravasation_injury  kidney_healthy  kidney_low  kidney_high  \\\n",
       "0                     1               0           1            0   \n",
       "1                     0               1           0            0   \n",
       "2                     0               1           0            0   \n",
       "3                     0               1           0            0   \n",
       "4                     0               1           0            0   \n",
       "\n",
       "   liver_healthy  liver_low  liver_high  spleen_healthy  spleen_low  \\\n",
       "0              1          0           0               0           0   \n",
       "1              1          0           0               1           0   \n",
       "2              1          0           0               1           0   \n",
       "3              1          0           0               1           0   \n",
       "4              1          0           0               0           1   \n",
       "\n",
       "   spleen_high  any_injury  \n",
       "0            1           1  \n",
       "1            0           0  \n",
       "2            0           0  \n",
       "3            0           0  \n",
       "4            0           1  "
      ]
     },
     "execution_count": 10,
     "metadata": {},
     "output_type": "execute_result"
    }
   ],
   "source": [
    "train_labels.head()"
   ]
  },
  {
   "cell_type": "code",
   "execution_count": 11,
   "id": "c9c99eed",
   "metadata": {},
   "outputs": [
    {
     "data": {
      "text/plain": [
       "0"
      ]
     },
     "execution_count": 11,
     "metadata": {},
     "output_type": "execute_result"
    }
   ],
   "source": [
    "# Show all duplicates in dataframe\n",
    "train_labels.duplicated().sum() "
   ]
  },
  {
   "cell_type": "code",
   "execution_count": 12,
   "id": "caa18dec",
   "metadata": {},
   "outputs": [
    {
     "data": {
      "text/plain": [
       "patient_id               3147\n",
       "bowel_healthy               2\n",
       "bowel_injury                2\n",
       "extravasation_healthy       2\n",
       "extravasation_injury        2\n",
       "kidney_healthy              2\n",
       "kidney_low                  2\n",
       "kidney_high                 2\n",
       "liver_healthy               2\n",
       "liver_low                   2\n",
       "liver_high                  2\n",
       "spleen_healthy              2\n",
       "spleen_low                  2\n",
       "spleen_high                 2\n",
       "any_injury                  2\n",
       "dtype: int64"
      ]
     },
     "execution_count": 12,
     "metadata": {},
     "output_type": "execute_result"
    }
   ],
   "source": [
    "train_labels.nunique()"
   ]
  },
  {
   "cell_type": "markdown",
   "id": "216af14e",
   "metadata": {},
   "source": [
    "## Correlation"
   ]
  },
  {
   "cell_type": "code",
   "execution_count": 13,
   "id": "338387ed",
   "metadata": {},
   "outputs": [
    {
     "data": {
      "image/png": "[encoded data removed]",
      "text/plain": [
       "<Figure size 1000x800 with 2 Axes>"
      ]
     },
     "metadata": {},
     "output_type": "display_data"
    }
   ],
   "source": [
    "injuries_cols = train_labels.columns[1:-1]\n",
    "\n",
    "correlation_matrix = pd.DataFrame(index=injuries_cols, columns=injuries_cols)\n",
    "\n",
    "for i in injuries_cols:\n",
    "    for j in injuries_cols:\n",
    "        # Convert categorical values to numeric using Point Biserial Correlation\n",
    "        r, _ = pointbiserialr(train_labels[i], train_labels[j])\n",
    "        correlation_matrix.loc[i, j] = r\n",
    "\n",
    "mask = np.triu(np.ones(correlation_matrix.shape), k=1)\n",
    "\n",
    "plt.figure(figsize=(10, 8))\n",
    "sbn.heatmap(correlation_matrix.astype(float), annot=True, cmap='coolwarm', center=0, mask=mask)\n",
    "plt.title('Correlation Heatmap of Injury Columns (Lower Triangle)')\n",
    "plt.show()"
   ]
  },
  {
   "cell_type": "markdown",
   "id": "dc186cab",
   "metadata": {},
   "source": [
    "**As shown above there is a weakly or negatively correlation between different categories and healthy. Injuries categories are not correlated each other.**"
   ]
  },
  {
   "cell_type": "markdown",
   "id": "df51863f",
   "metadata": {},
   "source": [
    "## Distribution of Injuries by category"
   ]
  },
  {
   "cell_type": "code",
   "execution_count": 14,
   "id": "61858143",
   "metadata": {
    "scrolled": true
   },
   "outputs": [
    {
     "data": {
      "image/png": "[encoded data removed]",
      "text/plain": [
       "<Figure size 1000x400 with 1 Axes>"
      ]
     },
     "metadata": {},
     "output_type": "display_data"
    }
   ],
   "source": [
    "# count the number of records in each column\n",
    "sum_ = train_labels.iloc[:,1:].sum()\n",
    "\n",
    "# sort the counts in ascending order\n",
    "sum_sorted = sum_.sort_values()\n",
    "\n",
    "plt.figure(figsize=(10, 4))\n",
    "# create a bar plot of the sorted counts with color\n",
    "plt.bar(sum_sorted.index, sum_sorted, color=['red', 'orange', 'yellow', 'green', 'blue', 'purple'])\n",
    "for i, v in enumerate(sum_sorted):\n",
    "    plt.text(i, v, str(v), color='black', fontweight='bold', ha='center')\n",
    "\n",
    "# add labels and title\n",
    "plt.xticks(rotation='vertical')\n",
    "plt.ylabel('Number of Records')\n",
    "plt.title('Record Counts by Column')\n",
    "\n",
    "# display the plot\n",
    "plt.show()"
   ]
  },
  {
   "cell_type": "markdown",
   "id": "ef00d4d4",
   "metadata": {},
   "source": [
    "------------"
   ]
  },
  {
   "cell_type": "markdown",
   "id": "f3543b13",
   "metadata": {},
   "source": [
    "**In summury, there are 3,147 observations :**\n",
    "\n",
    "1. Of these, **855** abdominal injuries belong to any injury\n",
    "2. Of these, **259** abdominal injuries belong to liver low\n",
    "3. Of these, **200** abdominal injuries belong to extravasation injury\n",
    "4. Of these, **199** abdominal injuries belong to spleen low\n",
    "5. Of these, **155** abdominal injuries belong to kidney low\n",
    "6. Of these, **67** abdominal injuries belong to kidney high\n",
    "7. Of these, **64** abdominal injuries belong to bowel injury\n",
    "8. Of these, **62** abdominal injuries belong to liver high"
   ]
  },
  {
   "cell_type": "markdown",
   "id": "0e711d8c",
   "metadata": {},
   "source": [
    "## Diving deep into analysis injuries within category"
   ]
  },
  {
   "cell_type": "code",
   "execution_count": 15,
   "id": "f470ff8c",
   "metadata": {},
   "outputs": [
    {
     "data": {
      "text/html": [
       "<div>\n",
       "<style scoped>\n",
       "    .dataframe tbody tr th:only-of-type {\n",
       "        vertical-align: middle;\n",
       "    }\n",
       "\n",
       "    .dataframe tbody tr th {\n",
       "        vertical-align: top;\n",
       "    }\n",
       "\n",
       "    .dataframe thead th {\n",
       "        text-align: right;\n",
       "    }\n",
       "</style>\n",
       "<table border=\"1\" class=\"dataframe\">\n",
       "  <thead>\n",
       "    <tr style=\"text-align: right;\">\n",
       "      <th></th>\n",
       "      <th>patient_id</th>\n",
       "      <th>any_injury</th>\n",
       "      <th>bowel</th>\n",
       "      <th>extravasation</th>\n",
       "      <th>kidney</th>\n",
       "      <th>liver</th>\n",
       "      <th>spleen</th>\n",
       "    </tr>\n",
       "  </thead>\n",
       "  <tbody>\n",
       "    <tr>\n",
       "      <th>0</th>\n",
       "      <td>10004</td>\n",
       "      <td>1</td>\n",
       "      <td>bowel_healthy</td>\n",
       "      <td>extravasation_injury</td>\n",
       "      <td>kidney_low</td>\n",
       "      <td>liver_healthy</td>\n",
       "      <td>spleen_high</td>\n",
       "    </tr>\n",
       "    <tr>\n",
       "      <th>1</th>\n",
       "      <td>10005</td>\n",
       "      <td>0</td>\n",
       "      <td>bowel_healthy</td>\n",
       "      <td>extravasation_healthy</td>\n",
       "      <td>kidney_healthy</td>\n",
       "      <td>liver_healthy</td>\n",
       "      <td>spleen_healthy</td>\n",
       "    </tr>\n",
       "    <tr>\n",
       "      <th>2</th>\n",
       "      <td>10007</td>\n",
       "      <td>0</td>\n",
       "      <td>bowel_healthy</td>\n",
       "      <td>extravasation_healthy</td>\n",
       "      <td>kidney_healthy</td>\n",
       "      <td>liver_healthy</td>\n",
       "      <td>spleen_healthy</td>\n",
       "    </tr>\n",
       "    <tr>\n",
       "      <th>3</th>\n",
       "      <td>10026</td>\n",
       "      <td>0</td>\n",
       "      <td>bowel_healthy</td>\n",
       "      <td>extravasation_healthy</td>\n",
       "      <td>kidney_healthy</td>\n",
       "      <td>liver_healthy</td>\n",
       "      <td>spleen_healthy</td>\n",
       "    </tr>\n",
       "    <tr>\n",
       "      <th>4</th>\n",
       "      <td>10051</td>\n",
       "      <td>1</td>\n",
       "      <td>bowel_healthy</td>\n",
       "      <td>extravasation_healthy</td>\n",
       "      <td>kidney_healthy</td>\n",
       "      <td>liver_healthy</td>\n",
       "      <td>spleen_low</td>\n",
       "    </tr>\n",
       "  </tbody>\n",
       "</table>\n",
       "</div>"
      ],
      "text/plain": [
       "   patient_id  any_injury          bowel          extravasation  \\\n",
       "0       10004           1  bowel_healthy   extravasation_injury   \n",
       "1       10005           0  bowel_healthy  extravasation_healthy   \n",
       "2       10007           0  bowel_healthy  extravasation_healthy   \n",
       "3       10026           0  bowel_healthy  extravasation_healthy   \n",
       "4       10051           1  bowel_healthy  extravasation_healthy   \n",
       "\n",
       "           kidney          liver          spleen  \n",
       "0      kidney_low  liver_healthy     spleen_high  \n",
       "1  kidney_healthy  liver_healthy  spleen_healthy  \n",
       "2  kidney_healthy  liver_healthy  spleen_healthy  \n",
       "3  kidney_healthy  liver_healthy  spleen_healthy  \n",
       "4  kidney_healthy  liver_healthy      spleen_low  "
      ]
     },
     "execution_count": 15,
     "metadata": {},
     "output_type": "execute_result"
    }
   ],
   "source": [
    "train_labels['bowel'] = train_labels.iloc[:, 1:3].idxmax(1)\n",
    "train_labels['extravasation'] = train_labels.iloc[:, 3:5].idxmax(1)\n",
    "train_labels['kidney'] = train_labels.iloc[:, 5:8].idxmax(1)\n",
    "train_labels['liver'] = train_labels.iloc[:, 8:11].idxmax(1)\n",
    "train_labels['spleen'] = train_labels.iloc[:, 11:14].idxmax(1)\n",
    "\n",
    "train_injuries = train_labels.drop(columns =['bowel_healthy','bowel_injury','extravasation_healthy',\n",
    "                                             'extravasation_injury','kidney_healthy','kidney_low',\n",
    "                                             'kidney_high','liver_healthy','liver_low','liver_high',\n",
    "                                             'spleen_healthy','spleen_low','spleen_high'])\n",
    "train_injuries.head()"
   ]
  },
  {
   "cell_type": "code",
   "execution_count": 16,
   "id": "472dacb7",
   "metadata": {},
   "outputs": [
    {
     "data": {
      "text/plain": [
       "extravasation\n",
       "extravasation_healthy    2947\n",
       "extravasation_injury      200\n",
       "Name: count, dtype: int64"
      ]
     },
     "execution_count": 16,
     "metadata": {},
     "output_type": "execute_result"
    }
   ],
   "source": [
    "train_injuries.extravasation.value_counts()"
   ]
  },
  {
   "cell_type": "markdown",
   "id": "1bb539bb",
   "metadata": {},
   "source": [
    "**Map bowel_healthy with 0, bowel_injury with 1, same for extravasation and 0 to 2 for healthy-low-high**."
   ]
  },
  {
   "cell_type": "code",
   "execution_count": 17,
   "id": "be793e41",
   "metadata": {},
   "outputs": [
    {
     "data": {
      "text/html": [
       "<div>\n",
       "<style scoped>\n",
       "    .dataframe tbody tr th:only-of-type {\n",
       "        vertical-align: middle;\n",
       "    }\n",
       "\n",
       "    .dataframe tbody tr th {\n",
       "        vertical-align: top;\n",
       "    }\n",
       "\n",
       "    .dataframe thead th {\n",
       "        text-align: right;\n",
       "    }\n",
       "</style>\n",
       "<table border=\"1\" class=\"dataframe\">\n",
       "  <thead>\n",
       "    <tr style=\"text-align: right;\">\n",
       "      <th></th>\n",
       "      <th>patient_id</th>\n",
       "      <th>any_injury</th>\n",
       "      <th>bowel</th>\n",
       "      <th>extravasation</th>\n",
       "      <th>kidney</th>\n",
       "      <th>liver</th>\n",
       "      <th>spleen</th>\n",
       "    </tr>\n",
       "  </thead>\n",
       "  <tbody>\n",
       "    <tr>\n",
       "      <th>0</th>\n",
       "      <td>10004</td>\n",
       "      <td>1</td>\n",
       "      <td>0</td>\n",
       "      <td>1</td>\n",
       "      <td>1</td>\n",
       "      <td>0</td>\n",
       "      <td>2</td>\n",
       "    </tr>\n",
       "    <tr>\n",
       "      <th>1</th>\n",
       "      <td>10005</td>\n",
       "      <td>0</td>\n",
       "      <td>0</td>\n",
       "      <td>0</td>\n",
       "      <td>0</td>\n",
       "      <td>0</td>\n",
       "      <td>0</td>\n",
       "    </tr>\n",
       "    <tr>\n",
       "      <th>2</th>\n",
       "      <td>10007</td>\n",
       "      <td>0</td>\n",
       "      <td>0</td>\n",
       "      <td>0</td>\n",
       "      <td>0</td>\n",
       "      <td>0</td>\n",
       "      <td>0</td>\n",
       "    </tr>\n",
       "    <tr>\n",
       "      <th>3</th>\n",
       "      <td>10026</td>\n",
       "      <td>0</td>\n",
       "      <td>0</td>\n",
       "      <td>0</td>\n",
       "      <td>0</td>\n",
       "      <td>0</td>\n",
       "      <td>0</td>\n",
       "    </tr>\n",
       "    <tr>\n",
       "      <th>4</th>\n",
       "      <td>10051</td>\n",
       "      <td>1</td>\n",
       "      <td>0</td>\n",
       "      <td>0</td>\n",
       "      <td>0</td>\n",
       "      <td>0</td>\n",
       "      <td>1</td>\n",
       "    </tr>\n",
       "  </tbody>\n",
       "</table>\n",
       "</div>"
      ],
      "text/plain": [
       "   patient_id  any_injury  bowel  extravasation  kidney  liver  spleen\n",
       "0       10004           1      0              1       1      0       2\n",
       "1       10005           0      0              0       0      0       0\n",
       "2       10007           0      0              0       0      0       0\n",
       "3       10026           0      0              0       0      0       0\n",
       "4       10051           1      0              0       0      0       1"
      ]
     },
     "execution_count": 17,
     "metadata": {},
     "output_type": "execute_result"
    }
   ],
   "source": [
    "train_injuries['bowel'] = train_injuries['bowel'].map({'bowel_injury':1,'bowel_healthy':0})\n",
    "train_injuries['extravasation'] =train_injuries['extravasation'].map({'extravasation_injury':1,\n",
    "                                                                  'extravasation_healthy':0})\n",
    "\n",
    "train_injuries['kidney'] = train_injuries['kidney'].map({'kidney_low':1,'kidney_high':2,'kidney_healthy':0})\n",
    "train_injuries['liver'] = train_injuries['liver'].map({'liver_low':1,'liver_high':2,'liver_healthy':0})\n",
    "train_injuries['spleen'] = train_injuries['spleen'].map({'spleen_low':1,'spleen_high':2,'spleen_healthy':0})\n",
    "\n",
    "train_injuries.head()"
   ]
  },
  {
   "cell_type": "code",
   "execution_count": 18,
   "id": "88f68777",
   "metadata": {},
   "outputs": [
    {
     "data": {
      "text/plain": [
       "extravasation\n",
       "0    2947\n",
       "1     200\n",
       "Name: count, dtype: int64"
      ]
     },
     "execution_count": 18,
     "metadata": {},
     "output_type": "execute_result"
    }
   ],
   "source": [
    "train_injuries.extravasation.value_counts()"
   ]
  },
  {
   "cell_type": "markdown",
   "id": "754f0b4f",
   "metadata": {},
   "source": [
    "## Pie Chart - distribution of Injuries by category"
   ]
  },
  {
   "cell_type": "code",
   "execution_count": 19,
   "id": "a0e5402f",
   "metadata": {},
   "outputs": [
    {
     "data": {
      "image/png": "[encoded data removed]",
      "text/plain": [
       "<Figure size 1500x1000 with 6 Axes>"
      ]
     },
     "metadata": {},
     "output_type": "display_data"
    }
   ],
   "source": [
    "#define Seaborn color palette to use\n",
    "colors = sbn.color_palette('pastel')[0:3]\n",
    "\n",
    "fig, axes = plt.subplots(2, 3, figsize=(15, 10))\n",
    "axes = axes.flatten()\n",
    "\n",
    "for idx, column in enumerate(train_injuries.columns[1:]):\n",
    "    axes[idx].set_axis_off()\n",
    "    ax = axes[idx]\n",
    "    possible_values = train_injuries[column].nunique()\n",
    "    if possible_values == 2:\n",
    "        labels = ['Healthy', 'Injured']\n",
    "        sizes = train_injuries[column].value_counts().to_dict()\n",
    "    else:\n",
    "        labels = ['Healthy', 'Low', 'High']\n",
    "        sizes = train_injuries[column].value_counts().to_dict()\n",
    "    ax.pie(sizes.values(), labels=labels, colors = colors, autopct='%.0f%%')\n",
    "    ax.set_title(column)\n",
    "plt.show()"
   ]
  },
  {
   "cell_type": "markdown",
   "id": "3f0994a5",
   "metadata": {},
   "source": [
    "-----------"
   ]
  },
  {
   "cell_type": "markdown",
   "id": "18b54e3f",
   "metadata": {},
   "source": [
    "**In summury, it is clear to conclude as per the following findings:**\n",
    "\n",
    "1. Of these, **27%** abdominal injuries belong to any injury\n",
    "2. Of these, **8%** abdominal injuries belong to liver low\n",
    "3. Of these, **6%** abdominal injuries belong to extravasation injury\n",
    "4. Of these, **6%** abdominal injuries belong to spleen low\n",
    "5. Of these, **5%** abdominal injuries belong to spleen high\n",
    "6. Of these, **4%** abdominal injuries belong to kidney low\n",
    "7. Of these, **2%** abdominal injuries belong to kidney high\n",
    "8. Of these, **2%** abdominal injuries belong to bowel injury"
   ]
  },
  {
   "cell_type": "markdown",
   "id": "87287205",
   "metadata": {},
   "source": [
    "-----------"
   ]
  },
  {
   "cell_type": "markdown",
   "id": "24cb45c5",
   "metadata": {},
   "source": [
    "## Load & view train series meta dataset(in csv format)"
   ]
  },
  {
   "cell_type": "code",
   "execution_count": 20,
   "id": "671d90ab",
   "metadata": {},
   "outputs": [
    {
     "name": "stdout",
     "output_type": "stream",
     "text": [
      "Training data Rows : 4711 Columns : 4 \n"
     ]
    }
   ],
   "source": [
    "train_series_meta = pd.read_csv(os.path.join(dsroot, 'train_series_meta.csv'))\n",
    "print('Training data Rows : %s Columns : %s ' % (str(train_series_meta.shape[0]), str(train_series_meta.shape[1])))"
   ]
  },
  {
   "cell_type": "code",
   "execution_count": 21,
   "id": "2fdd7e77",
   "metadata": {},
   "outputs": [
    {
     "name": "stdout",
     "output_type": "stream",
     "text": [
      "<class 'pandas.core.frame.DataFrame'>\n",
      "RangeIndex: 4711 entries, 0 to 4710\n",
      "Data columns (total 4 columns):\n",
      " #   Column            Non-Null Count  Dtype  \n",
      "---  ------            --------------  -----  \n",
      " 0   patient_id        4711 non-null   int64  \n",
      " 1   series_id         4711 non-null   int64  \n",
      " 2   aortic_hu         4711 non-null   float64\n",
      " 3   incomplete_organ  4711 non-null   int64  \n",
      "dtypes: float64(1), int64(3)\n",
      "memory usage: 147.3 KB\n"
     ]
    }
   ],
   "source": [
    "train_series_meta.info()"
   ]
  },
  {
   "cell_type": "code",
   "execution_count": 22,
   "id": "5f695dd7",
   "metadata": {},
   "outputs": [
    {
     "data": {
      "text/plain": [
       "1"
      ]
     },
     "execution_count": 22,
     "metadata": {},
     "output_type": "execute_result"
    }
   ],
   "source": [
    "len(train_series_meta[train_series_meta['aortic_hu']<=0])"
   ]
  },
  {
   "cell_type": "code",
   "execution_count": 23,
   "id": "67a07844",
   "metadata": {},
   "outputs": [
    {
     "data": {
      "text/html": [
       "<div>\n",
       "<style scoped>\n",
       "    .dataframe tbody tr th:only-of-type {\n",
       "        vertical-align: middle;\n",
       "    }\n",
       "\n",
       "    .dataframe tbody tr th {\n",
       "        vertical-align: top;\n",
       "    }\n",
       "\n",
       "    .dataframe thead th {\n",
       "        text-align: right;\n",
       "    }\n",
       "</style>\n",
       "<table border=\"1\" class=\"dataframe\">\n",
       "  <thead>\n",
       "    <tr style=\"text-align: right;\">\n",
       "      <th></th>\n",
       "      <th>patient_id</th>\n",
       "      <th>series_id</th>\n",
       "      <th>aortic_hu</th>\n",
       "      <th>incomplete_organ</th>\n",
       "    </tr>\n",
       "  </thead>\n",
       "  <tbody>\n",
       "    <tr>\n",
       "      <th>0</th>\n",
       "      <td>10004</td>\n",
       "      <td>21057</td>\n",
       "      <td>146.00</td>\n",
       "      <td>0</td>\n",
       "    </tr>\n",
       "    <tr>\n",
       "      <th>1</th>\n",
       "      <td>10004</td>\n",
       "      <td>51033</td>\n",
       "      <td>454.75</td>\n",
       "      <td>0</td>\n",
       "    </tr>\n",
       "    <tr>\n",
       "      <th>2</th>\n",
       "      <td>10005</td>\n",
       "      <td>18667</td>\n",
       "      <td>187.00</td>\n",
       "      <td>0</td>\n",
       "    </tr>\n",
       "    <tr>\n",
       "      <th>3</th>\n",
       "      <td>10007</td>\n",
       "      <td>47578</td>\n",
       "      <td>329.00</td>\n",
       "      <td>0</td>\n",
       "    </tr>\n",
       "    <tr>\n",
       "      <th>4</th>\n",
       "      <td>10026</td>\n",
       "      <td>29700</td>\n",
       "      <td>327.00</td>\n",
       "      <td>0</td>\n",
       "    </tr>\n",
       "  </tbody>\n",
       "</table>\n",
       "</div>"
      ],
      "text/plain": [
       "   patient_id  series_id  aortic_hu  incomplete_organ\n",
       "0       10004      21057     146.00                 0\n",
       "1       10004      51033     454.75                 0\n",
       "2       10005      18667     187.00                 0\n",
       "3       10007      47578     329.00                 0\n",
       "4       10026      29700     327.00                 0"
      ]
     },
     "execution_count": 23,
     "metadata": {},
     "output_type": "execute_result"
    }
   ],
   "source": [
    "train_series_meta.head()"
   ]
  },
  {
   "cell_type": "code",
   "execution_count": 24,
   "id": "40cc0837",
   "metadata": {},
   "outputs": [
    {
     "name": "stdout",
     "output_type": "stream",
     "text": [
      "The aortic value is ranged from -1024.0 above to 1411.0 \n"
     ]
    }
   ],
   "source": [
    "print('The aortic value is ranged from %s above to %s ' % (str(train_series_meta['aortic_hu'].min()),\n",
    "                                                               str(train_series_meta['aortic_hu'].max())))"
   ]
  },
  {
   "cell_type": "code",
   "execution_count": 25,
   "id": "21c834e3",
   "metadata": {},
   "outputs": [
    {
     "data": {
      "text/html": [
       "<div>\n",
       "<style scoped>\n",
       "    .dataframe tbody tr th:only-of-type {\n",
       "        vertical-align: middle;\n",
       "    }\n",
       "\n",
       "    .dataframe tbody tr th {\n",
       "        vertical-align: top;\n",
       "    }\n",
       "\n",
       "    .dataframe thead th {\n",
       "        text-align: right;\n",
       "    }\n",
       "</style>\n",
       "<table border=\"1\" class=\"dataframe\">\n",
       "  <thead>\n",
       "    <tr style=\"text-align: right;\">\n",
       "      <th></th>\n",
       "      <th>patient_id</th>\n",
       "      <th>series_id</th>\n",
       "      <th>aortic_hu</th>\n",
       "      <th>incomplete_organ</th>\n",
       "    </tr>\n",
       "  </thead>\n",
       "  <tbody>\n",
       "    <tr>\n",
       "      <th>1742</th>\n",
       "      <td>31284</td>\n",
       "      <td>58351</td>\n",
       "      <td>-1024.0</td>\n",
       "      <td>1</td>\n",
       "    </tr>\n",
       "  </tbody>\n",
       "</table>\n",
       "</div>"
      ],
      "text/plain": [
       "      patient_id  series_id  aortic_hu  incomplete_organ\n",
       "1742       31284      58351    -1024.0                 1"
      ]
     },
     "execution_count": 25,
     "metadata": {},
     "output_type": "execute_result"
    }
   ],
   "source": [
    "train_series_meta[train_series_meta['aortic_hu']<=0]"
   ]
  },
  {
   "cell_type": "markdown",
   "id": "ed682017",
   "metadata": {},
   "source": [
    "**_The patien shown above has the lowest aortic value, it shows also one or more organs wasn't fully covered by the scan that maybe the reason that lead to that value_**"
   ]
  },
  {
   "cell_type": "code",
   "execution_count": 26,
   "id": "9fc063dc",
   "metadata": {},
   "outputs": [
    {
     "data": {
      "text/plain": [
       "1564"
      ]
     },
     "execution_count": 26,
     "metadata": {},
     "output_type": "execute_result"
    }
   ],
   "source": [
    "# Show all duplicates in patient id\n",
    "train_series_meta.patient_id.duplicated().sum()"
   ]
  },
  {
   "cell_type": "code",
   "execution_count": 27,
   "id": "2443e3c6",
   "metadata": {},
   "outputs": [
    {
     "data": {
      "text/plain": [
       "3994"
      ]
     },
     "execution_count": 27,
     "metadata": {},
     "output_type": "execute_result"
    }
   ],
   "source": [
    "# Show all duplicates in patient id\n",
    "train_series_meta.aortic_hu.duplicated().sum()"
   ]
  },
  {
   "cell_type": "code",
   "execution_count": 28,
   "id": "28007dc7",
   "metadata": {},
   "outputs": [
    {
     "data": {
      "text/plain": [
       "patient_id          3147\n",
       "series_id           4711\n",
       "aortic_hu            717\n",
       "incomplete_organ       2\n",
       "dtype: int64"
      ]
     },
     "execution_count": 28,
     "metadata": {},
     "output_type": "execute_result"
    }
   ],
   "source": [
    "train_series_meta.nunique()"
   ]
  },
  {
   "cell_type": "code",
   "execution_count": 29,
   "id": "8dd66185",
   "metadata": {},
   "outputs": [
    {
     "data": {
      "text/html": [
       "<div>\n",
       "<style scoped>\n",
       "    .dataframe tbody tr th:only-of-type {\n",
       "        vertical-align: middle;\n",
       "    }\n",
       "\n",
       "    .dataframe tbody tr th {\n",
       "        vertical-align: top;\n",
       "    }\n",
       "\n",
       "    .dataframe thead th {\n",
       "        text-align: right;\n",
       "    }\n",
       "</style>\n",
       "<table border=\"1\" class=\"dataframe\">\n",
       "  <thead>\n",
       "    <tr style=\"text-align: right;\">\n",
       "      <th></th>\n",
       "      <th>patient_id</th>\n",
       "    </tr>\n",
       "    <tr>\n",
       "      <th>incomplete_organ</th>\n",
       "      <th></th>\n",
       "    </tr>\n",
       "  </thead>\n",
       "  <tbody>\n",
       "    <tr>\n",
       "      <th>0</th>\n",
       "      <td>4398</td>\n",
       "    </tr>\n",
       "    <tr>\n",
       "      <th>1</th>\n",
       "      <td>313</td>\n",
       "    </tr>\n",
       "    <tr>\n",
       "      <th>All</th>\n",
       "      <td>4711</td>\n",
       "    </tr>\n",
       "  </tbody>\n",
       "</table>\n",
       "</div>"
      ],
      "text/plain": [
       "                  patient_id\n",
       "incomplete_organ            \n",
       "0                       4398\n",
       "1                        313\n",
       "All                     4711"
      ]
     },
     "execution_count": 29,
     "metadata": {},
     "output_type": "execute_result"
    }
   ],
   "source": [
    "train_series_meta.pivot_table('patient_id', 'incomplete_organ',\n",
    "                               aggfunc='count', margins =True, fill_value=0)"
   ]
  },
  {
   "cell_type": "code",
   "execution_count": 30,
   "id": "54f650e1",
   "metadata": {},
   "outputs": [
    {
     "data": {
      "image/png": "[encoded data removed]",
      "text/plain": [
       "<Figure size 1500x800 with 1 Axes>"
      ]
     },
     "metadata": {},
     "output_type": "display_data"
    }
   ],
   "source": [
    "# Plot pie chart\n",
    "labels = ['Complete organ', 'Incomplete organ']\n",
    "sizes = train_series_meta.incomplete_organ.value_counts()\n",
    "\n",
    "fig1, ax1 = plt.subplots(figsize=(15,8))\n",
    "ax1.pie(sizes, labels = labels, autopct='%1.1f%%', shadow = True, startangle=90)\n",
    "ax1.axis('equal')\n",
    "ax1.legend()\n",
    "\n",
    "plt.title('RSNA23 Organ Condition labels')\n",
    "plt.show()"
   ]
  },
  {
   "cell_type": "code",
   "execution_count": 31,
   "id": "d7458d1c",
   "metadata": {},
   "outputs": [
    {
     "data": {
      "text/plain": [
       "incomplete_organ\n",
       "0    4398\n",
       "1     313\n",
       "Name: count, dtype: int64"
      ]
     },
     "execution_count": 31,
     "metadata": {},
     "output_type": "execute_result"
    }
   ],
   "source": [
    "# Counting the unique values forincomplete_organ\n",
    "train_series_meta['incomplete_organ'].value_counts()"
   ]
  },
  {
   "cell_type": "markdown",
   "id": "d7ae1bd8",
   "metadata": {},
   "source": [
    "-----------"
   ]
  },
  {
   "cell_type": "markdown",
   "id": "5b68d1ce",
   "metadata": {},
   "source": [
    "**In sum, there are 4711 observations or records**:\n",
    "\n",
    "  1. Of these, **3,147** unique ID code for each patients\n",
    "  2. Of these, **4,711** unique ID code for each scan\n",
    "  3. Of these, **717** images\n",
    "  4. Of these, **2** binary variable - Thrue if one or more organs was not fully covered by the scan\n",
    "  5. Of these, **1,564** duplicates ID code - Maybe these patient have been scanned twice\n",
    "  6. Of these, **3,994** aortic_hu duplicates -Indicate duplicate volume of the aorta was taken.\n",
    "  7. Of these, **4,398 (93.4%)** patient which the organ was fully covered by the scan.\n",
    "  8. Of these, **313 (6.6%)** patient which one or more organs was not fully covered by the scan."
   ]
  },
  {
   "cell_type": "markdown",
   "id": "0010758e",
   "metadata": {},
   "source": [
    "-------------"
   ]
  },
  {
   "cell_type": "markdown",
   "id": "85b62a2d",
   "metadata": {},
   "source": [
    "## Load & view train dicom tags dataset (in parquet format)"
   ]
  },
  {
   "cell_type": "code",
   "execution_count": 32,
   "id": "11786f74",
   "metadata": {},
   "outputs": [
    {
     "name": "stdout",
     "output_type": "stream",
     "text": [
      "Training data Rows : 1510373 Columns : 35 \n"
     ]
    }
   ],
   "source": [
    "train_dicom_tags = pd.read_parquet(os.path.join(dsroot, 'train_dicom_tags.parquet'))\n",
    "print('Training data Rows : %s Columns : %s ' % (str(train_dicom_tags.shape[0]), str(train_dicom_tags.shape[1])))"
   ]
  },
  {
   "cell_type": "code",
   "execution_count": 33,
   "id": "b96e0490",
   "metadata": {},
   "outputs": [
    {
     "name": "stdout",
     "output_type": "stream",
     "text": [
      "<class 'pandas.core.frame.DataFrame'>\n",
      "RangeIndex: 1510373 entries, 0 to 1510372\n",
      "Data columns (total 35 columns):\n",
      " #   Column                      Non-Null Count    Dtype  \n",
      "---  ------                      --------------    -----  \n",
      " 0   BitsAllocated               1510373 non-null  int64  \n",
      " 1   BitsStored                  1510373 non-null  int64  \n",
      " 2   Columns                     1510373 non-null  int64  \n",
      " 3   ContentDate                 1510373 non-null  object \n",
      " 4   ContentTime                 1510373 non-null  object \n",
      " 5   FrameOfReferenceUID         1510373 non-null  object \n",
      " 6   HighBit                     1510373 non-null  int64  \n",
      " 7   ImageOrientationPatient     1510373 non-null  object \n",
      " 8   ImagePositionPatient        1510373 non-null  object \n",
      " 9   InstanceNumber              1510373 non-null  int64  \n",
      " 10  KVP                         1510373 non-null  float64\n",
      " 11  PatientID                   1510373 non-null  object \n",
      " 12  PatientPosition             1510373 non-null  object \n",
      " 13  PhotometricInterpretation   1510373 non-null  object \n",
      " 14  PixelRepresentation         1510373 non-null  int64  \n",
      " 15  PixelSpacing                1510373 non-null  object \n",
      " 16  RescaleIntercept            1510373 non-null  float64\n",
      " 17  RescaleSlope                1510373 non-null  float64\n",
      " 18  Rows                        1510373 non-null  int64  \n",
      " 19  SOPInstanceUID              1510373 non-null  object \n",
      " 20  SamplesPerPixel             1510373 non-null  int64  \n",
      " 21  SeriesInstanceUID           1510373 non-null  object \n",
      " 22  SeriesNumber                1510373 non-null  int64  \n",
      " 23  SliceThickness              1510373 non-null  float64\n",
      " 24  StudyInstanceUID            1510373 non-null  object \n",
      " 25  WindowCenter                1510373 non-null  float64\n",
      " 26  WindowWidth                 1510373 non-null  float64\n",
      " 27  FileMetaInformationVersion  1510373 non-null  object \n",
      " 28  ImplementationClassUID      1510373 non-null  object \n",
      " 29  ImplementationVersionName   1510373 non-null  object \n",
      " 30  MediaStorageSOPClassUID     1510373 non-null  object \n",
      " 31  MediaStorageSOPInstanceUID  1510373 non-null  object \n",
      " 32  TransferSyntaxUID           1510373 non-null  object \n",
      " 33  path                        1510373 non-null  object \n",
      " 34  RescaleType                 1510373 non-null  object \n",
      "dtypes: float64(6), int64(9), object(20)\n",
      "memory usage: 403.3+ MB\n"
     ]
    }
   ],
   "source": [
    "train_dicom_tags.info()"
   ]
  },
  {
   "cell_type": "code",
   "execution_count": 34,
   "id": "1f548919",
   "metadata": {},
   "outputs": [
    {
     "data": {
      "text/html": [
       "<div>\n",
       "<style scoped>\n",
       "    .dataframe tbody tr th:only-of-type {\n",
       "        vertical-align: middle;\n",
       "    }\n",
       "\n",
       "    .dataframe tbody tr th {\n",
       "        vertical-align: top;\n",
       "    }\n",
       "\n",
       "    .dataframe thead th {\n",
       "        text-align: right;\n",
       "    }\n",
       "</style>\n",
       "<table border=\"1\" class=\"dataframe\">\n",
       "  <thead>\n",
       "    <tr style=\"text-align: right;\">\n",
       "      <th></th>\n",
       "      <th>BitsAllocated</th>\n",
       "      <th>BitsStored</th>\n",
       "      <th>Columns</th>\n",
       "      <th>ContentDate</th>\n",
       "      <th>ContentTime</th>\n",
       "      <th>FrameOfReferenceUID</th>\n",
       "      <th>HighBit</th>\n",
       "      <th>ImageOrientationPatient</th>\n",
       "      <th>ImagePositionPatient</th>\n",
       "      <th>InstanceNumber</th>\n",
       "      <th>...</th>\n",
       "      <th>WindowCenter</th>\n",
       "      <th>WindowWidth</th>\n",
       "      <th>FileMetaInformationVersion</th>\n",
       "      <th>ImplementationClassUID</th>\n",
       "      <th>ImplementationVersionName</th>\n",
       "      <th>MediaStorageSOPClassUID</th>\n",
       "      <th>MediaStorageSOPInstanceUID</th>\n",
       "      <th>TransferSyntaxUID</th>\n",
       "      <th>path</th>\n",
       "      <th>RescaleType</th>\n",
       "    </tr>\n",
       "  </thead>\n",
       "  <tbody>\n",
       "    <tr>\n",
       "      <th>0</th>\n",
       "      <td>16</td>\n",
       "      <td>16</td>\n",
       "      <td>512</td>\n",
       "      <td>20230722</td>\n",
       "      <td>003306.881589</td>\n",
       "      <td>1.2.826.0.1.3680043.8.498.28466454913303094199...</td>\n",
       "      <td>15</td>\n",
       "      <td>[1.00000, 0.00000, 0.00000, 0.00000, 1.00000, ...</td>\n",
       "      <td>[-235.8665, -235.8665, 1459.20]</td>\n",
       "      <td>532</td>\n",
       "      <td>...</td>\n",
       "      <td>50.0</td>\n",
       "      <td>400.0</td>\n",
       "      <td>\u0000\u0001</td>\n",
       "      <td>1.2.3.123456.4.5.1234.1.12.0</td>\n",
       "      <td>PYDICOM 2.4.0</td>\n",
       "      <td>1.2.840.10008.5.1.4.1.1.2</td>\n",
       "      <td>1.2.123.12345.1.2.3.49954.1.532</td>\n",
       "      <td>1.2.840.10008.1.2.5</td>\n",
       "      <td>train_images/49954/41479/532.dcm</td>\n",
       "      <td>nan</td>\n",
       "    </tr>\n",
       "    <tr>\n",
       "      <th>1</th>\n",
       "      <td>16</td>\n",
       "      <td>16</td>\n",
       "      <td>512</td>\n",
       "      <td>20230722</td>\n",
       "      <td>003303.279137</td>\n",
       "      <td>1.2.826.0.1.3680043.8.498.28466454913303094199...</td>\n",
       "      <td>15</td>\n",
       "      <td>[1.00000, 0.00000, 0.00000, 0.00000, 1.00000, ...</td>\n",
       "      <td>[-235.8665, -235.8665, 1474.40]</td>\n",
       "      <td>513</td>\n",
       "      <td>...</td>\n",
       "      <td>50.0</td>\n",
       "      <td>400.0</td>\n",
       "      <td>\u0000\u0001</td>\n",
       "      <td>1.2.3.123456.4.5.1234.1.12.0</td>\n",
       "      <td>PYDICOM 2.4.0</td>\n",
       "      <td>1.2.840.10008.5.1.4.1.1.2</td>\n",
       "      <td>1.2.123.12345.1.2.3.49954.1.513</td>\n",
       "      <td>1.2.840.10008.1.2.5</td>\n",
       "      <td>train_images/49954/41479/513.dcm</td>\n",
       "      <td>nan</td>\n",
       "    </tr>\n",
       "    <tr>\n",
       "      <th>2</th>\n",
       "      <td>16</td>\n",
       "      <td>16</td>\n",
       "      <td>512</td>\n",
       "      <td>20230722</td>\n",
       "      <td>003343.090736</td>\n",
       "      <td>1.2.826.0.1.3680043.8.498.28466454913303094199...</td>\n",
       "      <td>15</td>\n",
       "      <td>[1.00000, 0.00000, 0.00000, 0.00000, 1.00000, ...</td>\n",
       "      <td>[-235.8665, -235.8665, 1310.40]</td>\n",
       "      <td>718</td>\n",
       "      <td>...</td>\n",
       "      <td>50.0</td>\n",
       "      <td>400.0</td>\n",
       "      <td>\u0000\u0001</td>\n",
       "      <td>1.2.3.123456.4.5.1234.1.12.0</td>\n",
       "      <td>PYDICOM 2.4.0</td>\n",
       "      <td>1.2.840.10008.5.1.4.1.1.2</td>\n",
       "      <td>1.2.123.12345.1.2.3.49954.1.718</td>\n",
       "      <td>1.2.840.10008.1.2.5</td>\n",
       "      <td>train_images/49954/41479/718.dcm</td>\n",
       "      <td>nan</td>\n",
       "    </tr>\n",
       "    <tr>\n",
       "      <th>3</th>\n",
       "      <td>16</td>\n",
       "      <td>16</td>\n",
       "      <td>512</td>\n",
       "      <td>20230722</td>\n",
       "      <td>003252.960345</td>\n",
       "      <td>1.2.826.0.1.3680043.8.498.28466454913303094199...</td>\n",
       "      <td>15</td>\n",
       "      <td>[1.00000, 0.00000, 0.00000, 0.00000, 1.00000, ...</td>\n",
       "      <td>[-235.8665, -235.8665, 1520.00]</td>\n",
       "      <td>456</td>\n",
       "      <td>...</td>\n",
       "      <td>50.0</td>\n",
       "      <td>400.0</td>\n",
       "      <td>\u0000\u0001</td>\n",
       "      <td>1.2.3.123456.4.5.1234.1.12.0</td>\n",
       "      <td>PYDICOM 2.4.0</td>\n",
       "      <td>1.2.840.10008.5.1.4.1.1.2</td>\n",
       "      <td>1.2.123.12345.1.2.3.49954.1.456</td>\n",
       "      <td>1.2.840.10008.1.2.5</td>\n",
       "      <td>train_images/49954/41479/456.dcm</td>\n",
       "      <td>nan</td>\n",
       "    </tr>\n",
       "    <tr>\n",
       "      <th>4</th>\n",
       "      <td>16</td>\n",
       "      <td>16</td>\n",
       "      <td>512</td>\n",
       "      <td>20230722</td>\n",
       "      <td>003155.059398</td>\n",
       "      <td>1.2.826.0.1.3680043.8.498.28466454913303094199...</td>\n",
       "      <td>15</td>\n",
       "      <td>[1.00000, 0.00000, 0.00000, 0.00000, 1.00000, ...</td>\n",
       "      <td>[-235.8665, -235.8665, 1756.00]</td>\n",
       "      <td>161</td>\n",
       "      <td>...</td>\n",
       "      <td>50.0</td>\n",
       "      <td>400.0</td>\n",
       "      <td>\u0000\u0001</td>\n",
       "      <td>1.2.3.123456.4.5.1234.1.12.0</td>\n",
       "      <td>PYDICOM 2.4.0</td>\n",
       "      <td>1.2.840.10008.5.1.4.1.1.2</td>\n",
       "      <td>1.2.123.12345.1.2.3.49954.1.161</td>\n",
       "      <td>1.2.840.10008.1.2.5</td>\n",
       "      <td>train_images/49954/41479/161.dcm</td>\n",
       "      <td>nan</td>\n",
       "    </tr>\n",
       "  </tbody>\n",
       "</table>\n",
       "<p>5 rows × 35 columns</p>\n",
       "</div>"
      ],
      "text/plain": [
       "   BitsAllocated  BitsStored  Columns ContentDate    ContentTime  \\\n",
       "0             16          16      512    20230722  003306.881589   \n",
       "1             16          16      512    20230722  003303.279137   \n",
       "2             16          16      512    20230722  003343.090736   \n",
       "3             16          16      512    20230722  003252.960345   \n",
       "4             16          16      512    20230722  003155.059398   \n",
       "\n",
       "                                 FrameOfReferenceUID  HighBit  \\\n",
       "0  1.2.826.0.1.3680043.8.498.28466454913303094199...       15   \n",
       "1  1.2.826.0.1.3680043.8.498.28466454913303094199...       15   \n",
       "2  1.2.826.0.1.3680043.8.498.28466454913303094199...       15   \n",
       "3  1.2.826.0.1.3680043.8.498.28466454913303094199...       15   \n",
       "4  1.2.826.0.1.3680043.8.498.28466454913303094199...       15   \n",
       "\n",
       "                             ImageOrientationPatient  \\\n",
       "0  [1.00000, 0.00000, 0.00000, 0.00000, 1.00000, ...   \n",
       "1  [1.00000, 0.00000, 0.00000, 0.00000, 1.00000, ...   \n",
       "2  [1.00000, 0.00000, 0.00000, 0.00000, 1.00000, ...   \n",
       "3  [1.00000, 0.00000, 0.00000, 0.00000, 1.00000, ...   \n",
       "4  [1.00000, 0.00000, 0.00000, 0.00000, 1.00000, ...   \n",
       "\n",
       "              ImagePositionPatient  InstanceNumber  ...  WindowCenter  \\\n",
       "0  [-235.8665, -235.8665, 1459.20]             532  ...          50.0   \n",
       "1  [-235.8665, -235.8665, 1474.40]             513  ...          50.0   \n",
       "2  [-235.8665, -235.8665, 1310.40]             718  ...          50.0   \n",
       "3  [-235.8665, -235.8665, 1520.00]             456  ...          50.0   \n",
       "4  [-235.8665, -235.8665, 1756.00]             161  ...          50.0   \n",
       "\n",
       "  WindowWidth FileMetaInformationVersion        ImplementationClassUID  \\\n",
       "0       400.0                         \u0000\u0001  1.2.3.123456.4.5.1234.1.12.0   \n",
       "1       400.0                         \u0000\u0001  1.2.3.123456.4.5.1234.1.12.0   \n",
       "2       400.0                         \u0000\u0001  1.2.3.123456.4.5.1234.1.12.0   \n",
       "3       400.0                         \u0000\u0001  1.2.3.123456.4.5.1234.1.12.0   \n",
       "4       400.0                         \u0000\u0001  1.2.3.123456.4.5.1234.1.12.0   \n",
       "\n",
       "   ImplementationVersionName    MediaStorageSOPClassUID  \\\n",
       "0              PYDICOM 2.4.0  1.2.840.10008.5.1.4.1.1.2   \n",
       "1              PYDICOM 2.4.0  1.2.840.10008.5.1.4.1.1.2   \n",
       "2              PYDICOM 2.4.0  1.2.840.10008.5.1.4.1.1.2   \n",
       "3              PYDICOM 2.4.0  1.2.840.10008.5.1.4.1.1.2   \n",
       "4              PYDICOM 2.4.0  1.2.840.10008.5.1.4.1.1.2   \n",
       "\n",
       "        MediaStorageSOPInstanceUID    TransferSyntaxUID  \\\n",
       "0  1.2.123.12345.1.2.3.49954.1.532  1.2.840.10008.1.2.5   \n",
       "1  1.2.123.12345.1.2.3.49954.1.513  1.2.840.10008.1.2.5   \n",
       "2  1.2.123.12345.1.2.3.49954.1.718  1.2.840.10008.1.2.5   \n",
       "3  1.2.123.12345.1.2.3.49954.1.456  1.2.840.10008.1.2.5   \n",
       "4  1.2.123.12345.1.2.3.49954.1.161  1.2.840.10008.1.2.5   \n",
       "\n",
       "                               path RescaleType  \n",
       "0  train_images/49954/41479/532.dcm         nan  \n",
       "1  train_images/49954/41479/513.dcm         nan  \n",
       "2  train_images/49954/41479/718.dcm         nan  \n",
       "3  train_images/49954/41479/456.dcm         nan  \n",
       "4  train_images/49954/41479/161.dcm         nan  \n",
       "\n",
       "[5 rows x 35 columns]"
      ]
     },
     "execution_count": 34,
     "metadata": {},
     "output_type": "execute_result"
    }
   ],
   "source": [
    "train_dicom_tags.head()"
   ]
  },
  {
   "cell_type": "code",
   "execution_count": 35,
   "id": "05eeec53",
   "metadata": {},
   "outputs": [
    {
     "data": {
      "text/plain": [
       "BitsAllocated                       1\n",
       "BitsStored                          3\n",
       "Columns                           136\n",
       "ContentDate                         2\n",
       "ContentTime                   1508830\n",
       "FrameOfReferenceUID              3147\n",
       "HighBit                             3\n",
       "ImageOrientationPatient           173\n",
       "ImagePositionPatient          1426166\n",
       "InstanceNumber                   1971\n",
       "KVP                                10\n",
       "PatientID                        3147\n",
       "PatientPosition                     2\n",
       "PhotometricInterpretation           1\n",
       "PixelRepresentation                 2\n",
       "PixelSpacing                      807\n",
       "RescaleIntercept                    4\n",
       "RescaleSlope                        1\n",
       "Rows                                6\n",
       "SOPInstanceUID                1210859\n",
       "SamplesPerPixel                     1\n",
       "SeriesInstanceUID                4771\n",
       "SeriesNumber                      134\n",
       "SliceThickness                     19\n",
       "StudyInstanceUID                 3147\n",
       "WindowCenter                        1\n",
       "WindowWidth                         1\n",
       "FileMetaInformationVersion          1\n",
       "ImplementationClassUID              1\n",
       "ImplementationVersionName           1\n",
       "MediaStorageSOPClassUID             1\n",
       "MediaStorageSOPInstanceUID    1210859\n",
       "TransferSyntaxUID                   1\n",
       "path                          1510373\n",
       "RescaleType                         3\n",
       "dtype: int64"
      ]
     },
     "execution_count": 35,
     "metadata": {},
     "output_type": "execute_result"
    }
   ],
   "source": [
    "train_dicom_tags.nunique()"
   ]
  },
  {
   "cell_type": "markdown",
   "id": "1a759f1c",
   "metadata": {},
   "source": [
    "------------"
   ]
  },
  {
   "cell_type": "markdown",
   "id": "ee790aad",
   "metadata": {},
   "source": [
    "**LOAD & VIEW IMAGE LEVEL LABELS (In CSV format)**"
   ]
  },
  {
   "cell_type": "code",
   "execution_count": 36,
   "id": "d8a49063",
   "metadata": {},
   "outputs": [
    {
     "name": "stdout",
     "output_type": "stream",
     "text": [
      "Training data Rows : 12029 Columns : 4 \n"
     ]
    }
   ],
   "source": [
    "image_level_labels = pd.read_csv(os.path.join(dsroot, 'image_level_labels.csv'))\n",
    "print('Training data Rows : %s Columns : %s ' % (str(image_level_labels.shape[0]), str(image_level_labels.shape[1])))"
   ]
  },
  {
   "cell_type": "code",
   "execution_count": 37,
   "id": "803acaff",
   "metadata": {},
   "outputs": [
    {
     "name": "stdout",
     "output_type": "stream",
     "text": [
      "<class 'pandas.core.frame.DataFrame'>\n",
      "RangeIndex: 12029 entries, 0 to 12028\n",
      "Data columns (total 4 columns):\n",
      " #   Column           Non-Null Count  Dtype \n",
      "---  ------           --------------  ----- \n",
      " 0   patient_id       12029 non-null  int64 \n",
      " 1   series_id        12029 non-null  int64 \n",
      " 2   instance_number  12029 non-null  int64 \n",
      " 3   injury_name      12029 non-null  object\n",
      "dtypes: int64(3), object(1)\n",
      "memory usage: 376.0+ KB\n"
     ]
    }
   ],
   "source": [
    "image_level_labels.info()"
   ]
  },
  {
   "cell_type": "code",
   "execution_count": 38,
   "id": "93d70348",
   "metadata": {},
   "outputs": [
    {
     "data": {
      "text/html": [
       "<div>\n",
       "<style scoped>\n",
       "    .dataframe tbody tr th:only-of-type {\n",
       "        vertical-align: middle;\n",
       "    }\n",
       "\n",
       "    .dataframe tbody tr th {\n",
       "        vertical-align: top;\n",
       "    }\n",
       "\n",
       "    .dataframe thead th {\n",
       "        text-align: right;\n",
       "    }\n",
       "</style>\n",
       "<table border=\"1\" class=\"dataframe\">\n",
       "  <thead>\n",
       "    <tr style=\"text-align: right;\">\n",
       "      <th></th>\n",
       "      <th>patient_id</th>\n",
       "      <th>series_id</th>\n",
       "      <th>instance_number</th>\n",
       "      <th>injury_name</th>\n",
       "    </tr>\n",
       "  </thead>\n",
       "  <tbody>\n",
       "    <tr>\n",
       "      <th>0</th>\n",
       "      <td>10004</td>\n",
       "      <td>21057</td>\n",
       "      <td>362</td>\n",
       "      <td>Active_Extravasation</td>\n",
       "    </tr>\n",
       "    <tr>\n",
       "      <th>1</th>\n",
       "      <td>10004</td>\n",
       "      <td>21057</td>\n",
       "      <td>363</td>\n",
       "      <td>Active_Extravasation</td>\n",
       "    </tr>\n",
       "    <tr>\n",
       "      <th>2</th>\n",
       "      <td>10004</td>\n",
       "      <td>21057</td>\n",
       "      <td>364</td>\n",
       "      <td>Active_Extravasation</td>\n",
       "    </tr>\n",
       "    <tr>\n",
       "      <th>3</th>\n",
       "      <td>10004</td>\n",
       "      <td>21057</td>\n",
       "      <td>365</td>\n",
       "      <td>Active_Extravasation</td>\n",
       "    </tr>\n",
       "    <tr>\n",
       "      <th>4</th>\n",
       "      <td>10004</td>\n",
       "      <td>21057</td>\n",
       "      <td>366</td>\n",
       "      <td>Active_Extravasation</td>\n",
       "    </tr>\n",
       "  </tbody>\n",
       "</table>\n",
       "</div>"
      ],
      "text/plain": [
       "   patient_id  series_id  instance_number           injury_name\n",
       "0       10004      21057              362  Active_Extravasation\n",
       "1       10004      21057              363  Active_Extravasation\n",
       "2       10004      21057              364  Active_Extravasation\n",
       "3       10004      21057              365  Active_Extravasation\n",
       "4       10004      21057              366  Active_Extravasation"
      ]
     },
     "execution_count": 38,
     "metadata": {},
     "output_type": "execute_result"
    }
   ],
   "source": [
    "image_level_labels.head()"
   ]
  },
  {
   "cell_type": "code",
   "execution_count": 39,
   "id": "a86354e4",
   "metadata": {},
   "outputs": [
    {
     "data": {
      "text/plain": [
       "11783"
      ]
     },
     "execution_count": 39,
     "metadata": {},
     "output_type": "execute_result"
    }
   ],
   "source": [
    "# Show all duplicates in patient id\n",
    "image_level_labels.patient_id.duplicated().sum()"
   ]
  },
  {
   "cell_type": "code",
   "execution_count": 40,
   "id": "5fe781c0",
   "metadata": {},
   "outputs": [
    {
     "data": {
      "text/plain": [
       "11699"
      ]
     },
     "execution_count": 40,
     "metadata": {},
     "output_type": "execute_result"
    }
   ],
   "source": [
    "# Show all duplicates in series id\n",
    "image_level_labels.series_id.duplicated().sum()"
   ]
  },
  {
   "cell_type": "code",
   "execution_count": 41,
   "id": "15d743a2",
   "metadata": {},
   "outputs": [
    {
     "data": {
      "text/plain": [
       "11104"
      ]
     },
     "execution_count": 41,
     "metadata": {},
     "output_type": "execute_result"
    }
   ],
   "source": [
    "# Show all duplicates in instance number\n",
    "image_level_labels.instance_number.duplicated().sum()"
   ]
  },
  {
   "cell_type": "code",
   "execution_count": 42,
   "id": "62313f32",
   "metadata": {},
   "outputs": [
    {
     "data": {
      "text/plain": [
       "patient_id         246\n",
       "series_id          330\n",
       "instance_number    925\n",
       "injury_name          2\n",
       "dtype: int64"
      ]
     },
     "execution_count": 42,
     "metadata": {},
     "output_type": "execute_result"
    }
   ],
   "source": [
    "image_level_labels.nunique()"
   ]
  },
  {
   "cell_type": "markdown",
   "id": "4fda038e",
   "metadata": {},
   "source": [
    "--------"
   ]
  },
  {
   "cell_type": "markdown",
   "id": "e747deee",
   "metadata": {},
   "source": [
    "**In sum, there are 12029 observations or records**:\n",
    "\n",
    "   1. Of these, **246** patients of **330** series.\n",
    "   2. Of these, **330** series of **246** patients.\n",
    "   3. Of these, **925** annotated images\n",
    "   4. Of these, **2** types of Injuries\n",
    "   5. Of these, **11,783** duplicates patient_id - Maybe these patient have been scanned twice.\n",
    "   6. Of these, **11,699** duplicates series id - this indicate some scan were done more than twice.\n",
    "   7. Of these, **11,104** duplicates annotated images instance number -this indicate same image # was assigned more than one."
   ]
  },
  {
   "cell_type": "code",
   "execution_count": 43,
   "id": "20ac5bdd",
   "metadata": {},
   "outputs": [
    {
     "data": {
      "text/html": [
       "<div>\n",
       "<style scoped>\n",
       "    .dataframe tbody tr th:only-of-type {\n",
       "        vertical-align: middle;\n",
       "    }\n",
       "\n",
       "    .dataframe tbody tr th {\n",
       "        vertical-align: top;\n",
       "    }\n",
       "\n",
       "    .dataframe thead th {\n",
       "        text-align: right;\n",
       "    }\n",
       "</style>\n",
       "<table border=\"1\" class=\"dataframe\">\n",
       "  <thead>\n",
       "    <tr style=\"text-align: right;\">\n",
       "      <th></th>\n",
       "      <th>patient_id</th>\n",
       "    </tr>\n",
       "    <tr>\n",
       "      <th>injury_name</th>\n",
       "      <th></th>\n",
       "    </tr>\n",
       "  </thead>\n",
       "  <tbody>\n",
       "    <tr>\n",
       "      <th>Active_Extravasation</th>\n",
       "      <td>6370</td>\n",
       "    </tr>\n",
       "    <tr>\n",
       "      <th>Bowel</th>\n",
       "      <td>5659</td>\n",
       "    </tr>\n",
       "    <tr>\n",
       "      <th>All</th>\n",
       "      <td>12029</td>\n",
       "    </tr>\n",
       "  </tbody>\n",
       "</table>\n",
       "</div>"
      ],
      "text/plain": [
       "                      patient_id\n",
       "injury_name                     \n",
       "Active_Extravasation        6370\n",
       "Bowel                       5659\n",
       "All                        12029"
      ]
     },
     "execution_count": 43,
     "metadata": {},
     "output_type": "execute_result"
    }
   ],
   "source": [
    "image_level_labels.pivot_table('patient_id', 'injury_name',\n",
    "                               aggfunc='count', margins =True, fill_value=0)"
   ]
  },
  {
   "cell_type": "markdown",
   "id": "5b3873d1",
   "metadata": {},
   "source": [
    "## loading and processing train images"
   ]
  },
  {
   "cell_type": "code",
   "execution_count": 44,
   "id": "7d1bc4c2",
   "metadata": {
    "scrolled": true
   },
   "outputs": [
    {
     "name": "stdout",
     "output_type": "stream",
     "text": [
      "Number of DICOM images: 1500653\n",
      "Number of series: 57572\n",
      "Number of patients: 3147\n",
      "Processing time: 30 minutes 27 seconds\n"
     ]
    }
   ],
   "source": [
    "# Define the directory path for the train images\n",
    "train_images = os.path.join(dsroot, 'train_images')\n",
    "# initialize counters\n",
    "num_images = 0\n",
    "num_series = 0\n",
    "num_patients = 0\n",
    "patient_ids = set()\n",
    "\n",
    "# start the timer\n",
    "start_time = time.time()\n",
    "\n",
    "# loop through the directory tree using os.walk()\n",
    "for root, dirs, files in os.walk(train_images):\n",
    "    for file in files:\n",
    "        if file.endswith(\".dcm\"):\n",
    "            # read the DICOM file using pydicom\n",
    "            ds = dicom.dcmread(os.path.join(root, file))\n",
    "            # check if the NumberOfFrames attribute is present\n",
    "            if hasattr(ds, \"NumberOfFrames\"):\n",
    "                # increment the image counter by the number of frames in the file\n",
    "                num_images += ds.NumberOfFrames\n",
    "            else:\n",
    "                # increment the image counter by 1 for single-frame images\n",
    "                num_images += 1\n",
    "            # increment the series counter if this is the first image in the series\n",
    "            if ds.SeriesNumber == 1:\n",
    "                num_series += 1\n",
    "            # add the patient ID to the set of patient IDs\n",
    "            patient_ids.add(ds.PatientID)\n",
    "\n",
    "# count the number of unique patient IDs\n",
    "num_patients = len(patient_ids)\n",
    "\n",
    "# stop the timer\n",
    "end_time = time.time()\n",
    "\n",
    "# calculate the processing time in minutes and seconds\n",
    "processing_time = end_time - start_time\n",
    "processing_time_minutes = int(processing_time // 60)\n",
    "processing_time_seconds = int(processing_time % 60)\n",
    "\n",
    "# print the results\n",
    "print(\"Number of DICOM images:\", num_images)\n",
    "print(\"Number of series:\", num_series)\n",
    "print(\"Number of patients:\", num_patients)\n",
    "print(\"Processing time:\", processing_time_minutes, \"minutes\", processing_time_seconds, \"seconds\")"
   ]
  },
  {
   "cell_type": "markdown",
   "id": "4868799d",
   "metadata": {},
   "source": [
    "In sum, the train images directory contains a total of **1,500,653** dicom images versus **1,510,373** images from train_dicom_tags dataset.That said, there are **9,720** dicom images off. Note having further details, using train_dicom_tags datasets may not be a bad idea. Both train images dataset and train_dicom_tags worth using for deep learning classification"
   ]
  },
  {
   "cell_type": "code",
   "execution_count": 45,
   "id": "f6f7f4d4",
   "metadata": {},
   "outputs": [
    {
     "name": "stdout",
     "output_type": "stream",
     "text": [
      "\n",
      "There are 1583 patient_id with 1 series_id in train_images directory\n",
      "There are 1564 patient_id with 2 series_id in train_images directory\n"
     ]
    }
   ],
   "source": [
    "# Initialize the counters for 1 and 2 subfolders\n",
    "one_sub = 0\n",
    "two_sub = 0\n",
    "\n",
    "# Loop through the folders (patient_id) in the main directory\n",
    "for folder in os.listdir(train_images):\n",
    "    # Get the full path of the folder\n",
    "    folder_path = os.path.join(train_images, folder)\n",
    "    # Check if the folder (patient_id) is a directory\n",
    "    if os.path.isdir(folder_path):\n",
    "        # Get the list of subfolders (series_id)in the folder (patient_id)\n",
    "        subfolders = os.listdir(folder_path)\n",
    "        # Count the number of subfolders\n",
    "        num_sub = len(subfolders)\n",
    "        # Update the counters accordingly\n",
    "        if num_sub == 1:\n",
    "            one_sub += 1\n",
    "        elif num_sub == 2:\n",
    "            two_sub += 1\n",
    "\n",
    "# Print the results\n",
    "print('\\n'f'There are {one_sub} patient_id with 1 series_id in train_images directory')\n",
    "print(f'There are {two_sub} patient_id with 2 series_id in train_images directory')"
   ]
  },
  {
   "cell_type": "markdown",
   "id": "0b359871",
   "metadata": {},
   "source": [
    "## Load a view sample submission dataset(in csv format)"
   ]
  },
  {
   "cell_type": "code",
   "execution_count": 46,
   "id": "d0cf1d60",
   "metadata": {},
   "outputs": [
    {
     "name": "stdout",
     "output_type": "stream",
     "text": [
      "Training data Rows : 3 Columns : 14 \n"
     ]
    }
   ],
   "source": [
    "sample_submission = pd.read_csv(os.path.join(dsroot, 'sample_submission.csv'))\n",
    "print('Training data Rows : %s Columns : %s ' % (str(sample_submission.shape[0]), str(sample_submission.shape[1])))"
   ]
  },
  {
   "cell_type": "code",
   "execution_count": 47,
   "id": "412e8a88",
   "metadata": {},
   "outputs": [
    {
     "name": "stdout",
     "output_type": "stream",
     "text": [
      "<class 'pandas.core.frame.DataFrame'>\n",
      "RangeIndex: 3 entries, 0 to 2\n",
      "Data columns (total 14 columns):\n",
      " #   Column                 Non-Null Count  Dtype  \n",
      "---  ------                 --------------  -----  \n",
      " 0   patient_id             3 non-null      int64  \n",
      " 1   bowel_healthy          3 non-null      float64\n",
      " 2   bowel_injury           3 non-null      float64\n",
      " 3   extravasation_healthy  3 non-null      float64\n",
      " 4   extravasation_injury   3 non-null      float64\n",
      " 5   kidney_healthy         3 non-null      float64\n",
      " 6   kidney_low             3 non-null      float64\n",
      " 7   kidney_high            3 non-null      float64\n",
      " 8   liver_healthy          3 non-null      float64\n",
      " 9   liver_low              3 non-null      float64\n",
      " 10  liver_high             3 non-null      float64\n",
      " 11  spleen_healthy         3 non-null      float64\n",
      " 12  spleen_low             3 non-null      float64\n",
      " 13  spleen_high            3 non-null      float64\n",
      "dtypes: float64(13), int64(1)\n",
      "memory usage: 468.0 bytes\n"
     ]
    }
   ],
   "source": [
    "sample_submission.info()"
   ]
  },
  {
   "cell_type": "code",
   "execution_count": 48,
   "id": "e621e46c",
   "metadata": {},
   "outputs": [
    {
     "data": {
      "text/html": [
       "<div>\n",
       "<style scoped>\n",
       "    .dataframe tbody tr th:only-of-type {\n",
       "        vertical-align: middle;\n",
       "    }\n",
       "\n",
       "    .dataframe tbody tr th {\n",
       "        vertical-align: top;\n",
       "    }\n",
       "\n",
       "    .dataframe thead th {\n",
       "        text-align: right;\n",
       "    }\n",
       "</style>\n",
       "<table border=\"1\" class=\"dataframe\">\n",
       "  <thead>\n",
       "    <tr style=\"text-align: right;\">\n",
       "      <th></th>\n",
       "      <th>patient_id</th>\n",
       "      <th>bowel_healthy</th>\n",
       "      <th>bowel_injury</th>\n",
       "      <th>extravasation_healthy</th>\n",
       "      <th>extravasation_injury</th>\n",
       "      <th>kidney_healthy</th>\n",
       "      <th>kidney_low</th>\n",
       "      <th>kidney_high</th>\n",
       "      <th>liver_healthy</th>\n",
       "      <th>liver_low</th>\n",
       "      <th>liver_high</th>\n",
       "      <th>spleen_healthy</th>\n",
       "      <th>spleen_low</th>\n",
       "      <th>spleen_high</th>\n",
       "    </tr>\n",
       "  </thead>\n",
       "  <tbody>\n",
       "    <tr>\n",
       "      <th>0</th>\n",
       "      <td>48843</td>\n",
       "      <td>0.5</td>\n",
       "      <td>0.5</td>\n",
       "      <td>0.5</td>\n",
       "      <td>0.5</td>\n",
       "      <td>0.333333</td>\n",
       "      <td>0.333333</td>\n",
       "      <td>0.333333</td>\n",
       "      <td>0.333333</td>\n",
       "      <td>0.333333</td>\n",
       "      <td>0.333333</td>\n",
       "      <td>0.333333</td>\n",
       "      <td>0.333333</td>\n",
       "      <td>0.333333</td>\n",
       "    </tr>\n",
       "    <tr>\n",
       "      <th>1</th>\n",
       "      <td>50046</td>\n",
       "      <td>0.5</td>\n",
       "      <td>0.5</td>\n",
       "      <td>0.5</td>\n",
       "      <td>0.5</td>\n",
       "      <td>0.333333</td>\n",
       "      <td>0.333333</td>\n",
       "      <td>0.333333</td>\n",
       "      <td>0.333333</td>\n",
       "      <td>0.333333</td>\n",
       "      <td>0.333333</td>\n",
       "      <td>0.333333</td>\n",
       "      <td>0.333333</td>\n",
       "      <td>0.333333</td>\n",
       "    </tr>\n",
       "    <tr>\n",
       "      <th>2</th>\n",
       "      <td>63706</td>\n",
       "      <td>0.5</td>\n",
       "      <td>0.5</td>\n",
       "      <td>0.5</td>\n",
       "      <td>0.5</td>\n",
       "      <td>0.333333</td>\n",
       "      <td>0.333333</td>\n",
       "      <td>0.333333</td>\n",
       "      <td>0.333333</td>\n",
       "      <td>0.333333</td>\n",
       "      <td>0.333333</td>\n",
       "      <td>0.333333</td>\n",
       "      <td>0.333333</td>\n",
       "      <td>0.333333</td>\n",
       "    </tr>\n",
       "  </tbody>\n",
       "</table>\n",
       "</div>"
      ],
      "text/plain": [
       "   patient_id  bowel_healthy  bowel_injury  extravasation_healthy  \\\n",
       "0       48843            0.5           0.5                    0.5   \n",
       "1       50046            0.5           0.5                    0.5   \n",
       "2       63706            0.5           0.5                    0.5   \n",
       "\n",
       "   extravasation_injury  kidney_healthy  kidney_low  kidney_high  \\\n",
       "0                   0.5        0.333333    0.333333     0.333333   \n",
       "1                   0.5        0.333333    0.333333     0.333333   \n",
       "2                   0.5        0.333333    0.333333     0.333333   \n",
       "\n",
       "   liver_healthy  liver_low  liver_high  spleen_healthy  spleen_low  \\\n",
       "0       0.333333   0.333333    0.333333        0.333333    0.333333   \n",
       "1       0.333333   0.333333    0.333333        0.333333    0.333333   \n",
       "2       0.333333   0.333333    0.333333        0.333333    0.333333   \n",
       "\n",
       "   spleen_high  \n",
       "0     0.333333  \n",
       "1     0.333333  \n",
       "2     0.333333  "
      ]
     },
     "execution_count": 48,
     "metadata": {},
     "output_type": "execute_result"
    }
   ],
   "source": [
    "sample_submission.head()"
   ]
  },
  {
   "cell_type": "code",
   "execution_count": 49,
   "id": "a5f3d079",
   "metadata": {},
   "outputs": [
    {
     "data": {
      "text/plain": [
       "(3, 35)"
      ]
     },
     "execution_count": 49,
     "metadata": {},
     "output_type": "execute_result"
    }
   ],
   "source": [
    "test_dicom_tags = pd.read_parquet(os.path.join(dsroot, 'test_dicom_tags.parquet'))\n",
    "test_dicom_tags.shape"
   ]
  },
  {
   "cell_type": "markdown",
   "id": "219d396c",
   "metadata": {},
   "source": [
    "#### As shown above, test & the submission data has only three (3) observations or records."
   ]
  },
  {
   "cell_type": "markdown",
   "id": "113fbec7",
   "metadata": {},
   "source": [
    "-----------------"
   ]
  }
 ],
 "metadata": {
  "kernelspec": {
   "display_name": "Python 3 (ipykernel)",
   "language": "python",
   "name": "python3"
  },
  "language_info": {
   "codemirror_mode": {
    "name": "ipython",
    "version": 3
   },
   "file_extension": ".py",
   "mimetype": "text/x-python",
   "name": "python",
   "nbconvert_exporter": "python",
   "pygments_lexer": "ipython3",
   "version": "3.11.5"
  }
 },
 "nbformat": 4,
 "nbformat_minor": 5
}
